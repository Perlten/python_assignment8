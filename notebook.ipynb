{
 "cells": [
  {
   "cell_type": "markdown",
   "metadata": {},
   "source": [
    "\n",
    "# PREDICTING MOVIE REVENUE (IMDB)\n",
    "Given a data set of the 1,000 most popular movies on IMDB in the last 10 years, can you predict the revenue of a given movie?\n",
    "Create a user for kaggle if not already done. \n",
    "\n",
    "\n",
    "Questions/Exercises:\n",
    "1. Download the data programatically with python.\n",
    "\n",
    "(Hint: To generate your own kaggle.json file go to your profile -> account -> Create new API Token, and then place the file it in ~/.kaggle/)"
   ]
  },
  {
   "cell_type": "code",
   "execution_count": 8,
   "metadata": {},
   "outputs": [],
   "source": [
    "import pandas as pd\n",
    "import sklearn.linear_model\n",
    "from sklearn.model_selection import train_test_split\n",
    "import numpy as np\n",
    "import matplotlib.pyplot as plt\n",
    "import os\n",
    "\n",
    "os.environ[\"KAGGLE_USERNAME\"] = \"perlten\"\n",
    "os.environ[\"KAGGLE_KEY\"] = \"2184df94c35b67eaaef1ca9377e0b785\"\n",
    "\n",
    "import kaggle\n",
    "kaggle.api.authenticate()\n",
    "kaggle.api.dataset_download_files(\n",
    "        'PromptCloudHQ/imdb-data', path='./', unzip=True)"
   ]
  },
  {
   "cell_type": "markdown",
   "metadata": {},
   "source": [
    "\n",
    "You will now have to make a train-test-split of the data so that you have a way of verifying the model later. (We suggest 2/3 for training and 1/3 for testing)\n",
    "\n",
    "Here is a link to the train-test-split documentation for sklearn\n",
    "\n",
    "2. Fit the training-data into a model, present it visually and reflect on wether it is a good fit or not.\n",
    "\n",
    "3. Now take the test-data, test the model and evaluate how accurate the model is.\n"
   ]
  },
  {
   "cell_type": "code",
   "execution_count": 9,
   "metadata": {},
   "outputs": [
    {
     "name": "stdout",
     "output_type": "stream",
     "text": [
      "0.005437913263368732\n"
     ]
    },
    {
     "data": {
      "image/png": "[encoded data removed]",
      "text/plain": [
       "<Figure size 432x288 with 1 Axes>"
      ]
     },
     "metadata": {},
     "output_type": "display_data"
    }
   ],
   "source": [
    "data = pd.read_csv(\"IMDB-Movie-Data.csv\")\n",
    "\n",
    "data = data[pd.notnull(data[\"Metascore\"])]\n",
    "data = data[pd.notnull(data[\"Revenue (Millions)\"])]\n",
    "\n",
    "xs = data[\"Metascore\"]\n",
    "ys = data[\"Revenue (Millions)\"]\n",
    "\n",
    "xs_reshape = np.array(xs).reshape(-1, 1)\n",
    "\n",
    "x_train, x_test, y_train, y_test = train_test_split(xs_reshape, ys)\n",
    "\n",
    "model = sklearn.linear_model.LinearRegression()\n",
    "\n",
    "model.fit(x_train, y_train)\n",
    "\n",
    "print(model.score(x_test, y_test))\n",
    "y_predict = model.predict(x_test)\n",
    "\n",
    "plt.scatter(x_test, y_test,  color='black')\n",
    "plt.plot(x_test, y_predict, color='blue', linewidth=3)\n",
    "\n",
    "plt.xticks(())\n",
    "plt.yticks(())\n",
    "\n",
    "plt.show()\n"
   ]
  }
 ],
 "metadata": {
  "kernelspec": {
   "display_name": "Python 3",
   "language": "python",
   "name": "python3"
  },
  "language_info": {
   "codemirror_mode": {
    "name": "ipython",
    "version": 3
   },
   "file_extension": ".py",
   "mimetype": "text/x-python",
   "name": "python",
   "nbconvert_exporter": "python",
   "pygments_lexer": "ipython3",
   "version": "3.7.1"
  }
 },
 "nbformat": 4,
 "nbformat_minor": 2
}
